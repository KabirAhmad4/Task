{
  "nbformat": 4,
  "nbformat_minor": 0,
  "metadata": {
    "colab": {
      "provenance": []
    },
    "kernelspec": {
      "name": "python3",
      "display_name": "Python 3"
    },
    "language_info": {
      "name": "python"
    }
  },
  "cells": [
    {
      "cell_type": "code",
      "source": [
        "!zip \"/content/model_- 11 june 2024 23_32.zip\""
      ],
      "metadata": {
        "id": "WYQM25ITdoJG",
        "outputId": "694fd8d0-a84c-4d95-d6f5-e06e7ac17229",
        "colab": {
          "base_uri": "https://localhost:8080/"
        }
      },
      "execution_count": 4,
      "outputs": [
        {
          "output_type": "stream",
          "name": "stdout",
          "text": [
            "\tzip warning: Zip64 EOCDR not found where expected - compensating\n",
            "\tzip warning: (try -A to adjust offsets)\n",
            "\tzip warning: unexpected signature on disk 0 at 84644288\n",
            "\n",
            "\tzip warning: archive not in correct format: /content/model_- 11 june 2024 23_32.zip\n",
            "\tzip warning: (try -F to attempt recovery)\n",
            "\n",
            "zip error: Zip file structure invalid (/content/model_- 11 june 2024 23_32.zip)\n"
          ]
        }
      ]
    },
    {
      "cell_type": "code",
      "execution_count": null,
      "metadata": {
        "id": "TfFe812DoL5o"
      },
      "outputs": [],
      "source": [
        "import torch\n",
        "import cv2\n",
        "import numpy as np\n",
        "import json"
      ]
    },
    {
      "cell_type": "code",
      "source": [
        "!pip install ultralytics\n"
      ],
      "metadata": {
        "colab": {
          "base_uri": "https://localhost:8080/"
        },
        "id": "QWkmkCaGqo51",
        "outputId": "9d129ea5-43e6-4f4c-fdbe-2310e28aa13c"
      },
      "execution_count": null,
      "outputs": [
        {
          "output_type": "stream",
          "name": "stdout",
          "text": [
            "Collecting ultralytics\n",
            "  Downloading ultralytics-8.2.31-py3-none-any.whl (780 kB)\n",
            "\u001b[2K     \u001b[90m━━━━━━━━━━━━━━━━━━━━━━━━━━━━━━━━━━━━━━━━\u001b[0m \u001b[32m780.6/780.6 kB\u001b[0m \u001b[31m8.3 MB/s\u001b[0m eta \u001b[36m0:00:00\u001b[0m\n",
            "\u001b[?25hRequirement already satisfied: matplotlib>=3.3.0 in /usr/local/lib/python3.10/dist-packages (from ultralytics) (3.7.1)\n",
            "Requirement already satisfied: opencv-python>=4.6.0 in /usr/local/lib/python3.10/dist-packages (from ultralytics) (4.8.0.76)\n",
            "Requirement already satisfied: pillow>=7.1.2 in /usr/local/lib/python3.10/dist-packages (from ultralytics) (9.4.0)\n",
            "Requirement already satisfied: pyyaml>=5.3.1 in /usr/local/lib/python3.10/dist-packages (from ultralytics) (6.0.1)\n",
            "Requirement already satisfied: requests>=2.23.0 in /usr/local/lib/python3.10/dist-packages (from ultralytics) (2.31.0)\n",
            "Requirement already satisfied: scipy>=1.4.1 in /usr/local/lib/python3.10/dist-packages (from ultralytics) (1.11.4)\n",
            "Requirement already satisfied: torch>=1.8.0 in /usr/local/lib/python3.10/dist-packages (from ultralytics) (2.3.0+cu121)\n",
            "Requirement already satisfied: torchvision>=0.9.0 in /usr/local/lib/python3.10/dist-packages (from ultralytics) (0.18.0+cu121)\n",
            "Requirement already satisfied: tqdm>=4.64.0 in /usr/local/lib/python3.10/dist-packages (from ultralytics) (4.66.4)\n",
            "Requirement already satisfied: psutil in /usr/local/lib/python3.10/dist-packages (from ultralytics) (5.9.5)\n",
            "Requirement already satisfied: py-cpuinfo in /usr/local/lib/python3.10/dist-packages (from ultralytics) (9.0.0)\n",
            "Requirement already satisfied: pandas>=1.1.4 in /usr/local/lib/python3.10/dist-packages (from ultralytics) (2.0.3)\n",
            "Requirement already satisfied: seaborn>=0.11.0 in /usr/local/lib/python3.10/dist-packages (from ultralytics) (0.13.1)\n",
            "Collecting ultralytics-thop>=0.2.5 (from ultralytics)\n",
            "  Downloading ultralytics_thop-0.2.8-py3-none-any.whl (25 kB)\n",
            "Requirement already satisfied: contourpy>=1.0.1 in /usr/local/lib/python3.10/dist-packages (from matplotlib>=3.3.0->ultralytics) (1.2.1)\n",
            "Requirement already satisfied: cycler>=0.10 in /usr/local/lib/python3.10/dist-packages (from matplotlib>=3.3.0->ultralytics) (0.12.1)\n",
            "Requirement already satisfied: fonttools>=4.22.0 in /usr/local/lib/python3.10/dist-packages (from matplotlib>=3.3.0->ultralytics) (4.53.0)\n",
            "Requirement already satisfied: kiwisolver>=1.0.1 in /usr/local/lib/python3.10/dist-packages (from matplotlib>=3.3.0->ultralytics) (1.4.5)\n",
            "Requirement already satisfied: numpy>=1.20 in /usr/local/lib/python3.10/dist-packages (from matplotlib>=3.3.0->ultralytics) (1.25.2)\n",
            "Requirement already satisfied: packaging>=20.0 in /usr/local/lib/python3.10/dist-packages (from matplotlib>=3.3.0->ultralytics) (24.0)\n",
            "Requirement already satisfied: pyparsing>=2.3.1 in /usr/local/lib/python3.10/dist-packages (from matplotlib>=3.3.0->ultralytics) (3.1.2)\n",
            "Requirement already satisfied: python-dateutil>=2.7 in /usr/local/lib/python3.10/dist-packages (from matplotlib>=3.3.0->ultralytics) (2.8.2)\n",
            "Requirement already satisfied: pytz>=2020.1 in /usr/local/lib/python3.10/dist-packages (from pandas>=1.1.4->ultralytics) (2023.4)\n",
            "Requirement already satisfied: tzdata>=2022.1 in /usr/local/lib/python3.10/dist-packages (from pandas>=1.1.4->ultralytics) (2024.1)\n",
            "Requirement already satisfied: charset-normalizer<4,>=2 in /usr/local/lib/python3.10/dist-packages (from requests>=2.23.0->ultralytics) (3.3.2)\n",
            "Requirement already satisfied: idna<4,>=2.5 in /usr/local/lib/python3.10/dist-packages (from requests>=2.23.0->ultralytics) (3.7)\n",
            "Requirement already satisfied: urllib3<3,>=1.21.1 in /usr/local/lib/python3.10/dist-packages (from requests>=2.23.0->ultralytics) (2.0.7)\n",
            "Requirement already satisfied: certifi>=2017.4.17 in /usr/local/lib/python3.10/dist-packages (from requests>=2.23.0->ultralytics) (2024.6.2)\n",
            "Requirement already satisfied: filelock in /usr/local/lib/python3.10/dist-packages (from torch>=1.8.0->ultralytics) (3.14.0)\n",
            "Requirement already satisfied: typing-extensions>=4.8.0 in /usr/local/lib/python3.10/dist-packages (from torch>=1.8.0->ultralytics) (4.12.1)\n",
            "Requirement already satisfied: sympy in /usr/local/lib/python3.10/dist-packages (from torch>=1.8.0->ultralytics) (1.12.1)\n",
            "Requirement already satisfied: networkx in /usr/local/lib/python3.10/dist-packages (from torch>=1.8.0->ultralytics) (3.3)\n",
            "Requirement already satisfied: jinja2 in /usr/local/lib/python3.10/dist-packages (from torch>=1.8.0->ultralytics) (3.1.4)\n",
            "Requirement already satisfied: fsspec in /usr/local/lib/python3.10/dist-packages (from torch>=1.8.0->ultralytics) (2023.6.0)\n",
            "Collecting nvidia-cuda-nvrtc-cu12==12.1.105 (from torch>=1.8.0->ultralytics)\n",
            "  Using cached nvidia_cuda_nvrtc_cu12-12.1.105-py3-none-manylinux1_x86_64.whl (23.7 MB)\n",
            "Collecting nvidia-cuda-runtime-cu12==12.1.105 (from torch>=1.8.0->ultralytics)\n",
            "  Using cached nvidia_cuda_runtime_cu12-12.1.105-py3-none-manylinux1_x86_64.whl (823 kB)\n",
            "Collecting nvidia-cuda-cupti-cu12==12.1.105 (from torch>=1.8.0->ultralytics)\n",
            "  Using cached nvidia_cuda_cupti_cu12-12.1.105-py3-none-manylinux1_x86_64.whl (14.1 MB)\n",
            "Collecting nvidia-cudnn-cu12==8.9.2.26 (from torch>=1.8.0->ultralytics)\n",
            "  Using cached nvidia_cudnn_cu12-8.9.2.26-py3-none-manylinux1_x86_64.whl (731.7 MB)\n",
            "Collecting nvidia-cublas-cu12==12.1.3.1 (from torch>=1.8.0->ultralytics)\n",
            "  Using cached nvidia_cublas_cu12-12.1.3.1-py3-none-manylinux1_x86_64.whl (410.6 MB)\n",
            "Collecting nvidia-cufft-cu12==11.0.2.54 (from torch>=1.8.0->ultralytics)\n",
            "  Using cached nvidia_cufft_cu12-11.0.2.54-py3-none-manylinux1_x86_64.whl (121.6 MB)\n",
            "Collecting nvidia-curand-cu12==10.3.2.106 (from torch>=1.8.0->ultralytics)\n",
            "  Using cached nvidia_curand_cu12-10.3.2.106-py3-none-manylinux1_x86_64.whl (56.5 MB)\n",
            "Collecting nvidia-cusolver-cu12==11.4.5.107 (from torch>=1.8.0->ultralytics)\n",
            "  Using cached nvidia_cusolver_cu12-11.4.5.107-py3-none-manylinux1_x86_64.whl (124.2 MB)\n",
            "Collecting nvidia-cusparse-cu12==12.1.0.106 (from torch>=1.8.0->ultralytics)\n",
            "  Using cached nvidia_cusparse_cu12-12.1.0.106-py3-none-manylinux1_x86_64.whl (196.0 MB)\n",
            "Collecting nvidia-nccl-cu12==2.20.5 (from torch>=1.8.0->ultralytics)\n",
            "  Using cached nvidia_nccl_cu12-2.20.5-py3-none-manylinux2014_x86_64.whl (176.2 MB)\n",
            "Collecting nvidia-nvtx-cu12==12.1.105 (from torch>=1.8.0->ultralytics)\n",
            "  Using cached nvidia_nvtx_cu12-12.1.105-py3-none-manylinux1_x86_64.whl (99 kB)\n",
            "Requirement already satisfied: triton==2.3.0 in /usr/local/lib/python3.10/dist-packages (from torch>=1.8.0->ultralytics) (2.3.0)\n",
            "Collecting nvidia-nvjitlink-cu12 (from nvidia-cusolver-cu12==11.4.5.107->torch>=1.8.0->ultralytics)\n",
            "  Downloading nvidia_nvjitlink_cu12-12.5.40-py3-none-manylinux2014_x86_64.whl (21.3 MB)\n",
            "\u001b[2K     \u001b[90m━━━━━━━━━━━━━━━━━━━━━━━━━━━━━━━━━━━━━━━━\u001b[0m \u001b[32m21.3/21.3 MB\u001b[0m \u001b[31m60.2 MB/s\u001b[0m eta \u001b[36m0:00:00\u001b[0m\n",
            "\u001b[?25hRequirement already satisfied: six>=1.5 in /usr/local/lib/python3.10/dist-packages (from python-dateutil>=2.7->matplotlib>=3.3.0->ultralytics) (1.16.0)\n",
            "Requirement already satisfied: MarkupSafe>=2.0 in /usr/local/lib/python3.10/dist-packages (from jinja2->torch>=1.8.0->ultralytics) (2.1.5)\n",
            "Requirement already satisfied: mpmath<1.4.0,>=1.1.0 in /usr/local/lib/python3.10/dist-packages (from sympy->torch>=1.8.0->ultralytics) (1.3.0)\n",
            "Installing collected packages: nvidia-nvtx-cu12, nvidia-nvjitlink-cu12, nvidia-nccl-cu12, nvidia-curand-cu12, nvidia-cufft-cu12, nvidia-cuda-runtime-cu12, nvidia-cuda-nvrtc-cu12, nvidia-cuda-cupti-cu12, nvidia-cublas-cu12, nvidia-cusparse-cu12, nvidia-cudnn-cu12, nvidia-cusolver-cu12, ultralytics-thop, ultralytics\n",
            "Successfully installed nvidia-cublas-cu12-12.1.3.1 nvidia-cuda-cupti-cu12-12.1.105 nvidia-cuda-nvrtc-cu12-12.1.105 nvidia-cuda-runtime-cu12-12.1.105 nvidia-cudnn-cu12-8.9.2.26 nvidia-cufft-cu12-11.0.2.54 nvidia-curand-cu12-10.3.2.106 nvidia-cusolver-cu12-11.4.5.107 nvidia-cusparse-cu12-12.1.0.106 nvidia-nccl-cu12-2.20.5 nvidia-nvjitlink-cu12-12.5.40 nvidia-nvtx-cu12-12.1.105 ultralytics-8.2.31 ultralytics-thop-0.2.8\n"
          ]
        }
      ]
    },
    {
      "cell_type": "code",
      "source": [
        "import torch\n",
        "import cv2\n",
        "import numpy as np\n",
        "import json\n",
        "from torchvision import transforms\n",
        "import matplotlib.pyplot as plt\n",
        "from PIL import Image\n",
        "\n",
        "# Function to load the model\n",
        "def load_model(model_path):\n",
        "    checkpoint = torch.load(model_path)\n",
        "    if 'model' in checkpoint:\n",
        "        model = checkpoint['model']\n",
        "    else:\n",
        "        model = checkpoint\n",
        "    model = model.float()  # Convert model to FP32\n",
        "    model.eval()\n",
        "    return model\n",
        "\n",
        "# Function to run the model and get predictions\n",
        "def get_model_output(model, image):\n",
        "    transform = transforms.Compose([\n",
        "        transforms.ToTensor(),\n",
        "        transforms.Resize((640, 640)),  # Ensure the input size matches the model's expected input\n",
        "        transforms.Normalize(mean=[0.485, 0.456, 0.406], std=[0.229, 0.224, 0.225])\n",
        "    ])\n",
        "    input_tensor = transform(image).unsqueeze(0).float()  # Ensure input is FP32\n",
        "    with torch.no_grad():\n",
        "        output = model(input_tensor)\n",
        "    return output\n",
        "\n",
        "# Function to convert model output to JSON format\n",
        "def output_to_json(output):\n",
        "    # Convert the PyTorch tensor to a Python list\n",
        "    output_list = output.tolist()\n",
        "\n",
        "    # Determine the number of points\n",
        "    num_points = len(output_list)\n",
        "\n",
        "    # Create a list of dictionaries, where each dictionary represents a point\n",
        "    points = [{\"value\": value} for value in output_list]\n",
        "\n",
        "    output_dict = {\n",
        "        \"predictions\": [\n",
        "            {\n",
        "                \"class\": \"point_values\",\n",
        "                \"num_points\": num_points,\n",
        "                \"points\": points\n",
        "            }\n",
        "        ]\n",
        "    }\n",
        "    return json.dumps(output_dict)\n",
        "\n",
        "# Function to extract the full hairline area\n",
        "def extract_full_hairline_area(original_image, output_json):\n",
        "    # Parse the JSON output\n",
        "    data = json.loads(output_json)\n",
        "    predictions = data[\"predictions\"]\n",
        "    # Find the \"point_values\" class\n",
        "    point_values = None\n",
        "    for prediction in predictions:\n",
        "        if prediction[\"class\"] == \"point_values\":\n",
        "            point_values = prediction[\"points\"]\n",
        "            num_points = prediction[\"num_points\"]\n",
        "            break\n",
        "\n",
        "    if point_values is None:\n",
        "        raise ValueError(\"Point values not found in the predictions.\")\n",
        "\n",
        "    # Create a mask from the segmentation points\n",
        "    mask = np.zeros(original_image.shape[:2], dtype=np.uint8)\n",
        "\n",
        "    # Convert points to a format suitable for OpenCV\n",
        "    points = np.array([[i, pt['value']] for i, pt in enumerate(point_values)], dtype=np.int32)\n",
        "    points = points.reshape((-1, 1, 2))\n",
        "    cv2.polylines(mask, [points], isClosed=False, color=255, thickness=2)\n",
        "\n",
        "    # Extract the area using the mask\n",
        "    extracted_area = cv2.bitwise_and(original_image, original_image, mask=mask)\n",
        "\n",
        "    # Get the bounding box for the full hairline area\n",
        "    x, y, w, h = cv2.boundingRect(mask)\n",
        "\n",
        "    # Crop the extracted area\n",
        "    cropped_area = extracted_area[y:y+h, x:x+w]\n",
        "\n",
        "    return cropped_area\n",
        "\n",
        "# Load the input image\n",
        "input_image_path = '/content/need-finasteride.jpg'  # Replace with your image path\n",
        "original_image = cv2.imread(input_image_path)\n",
        "\n",
        "# Load the segmentation model\n",
        "model_path = '/content/model_- 11 june 2024 23_32.pt'  # Replace with your model path\n",
        "model = load_model(model_path)\n",
        "\n",
        "# Get the model output\n",
        "output = get_model_output(model, original_image)\n",
        "# Convert the model output to a JSON string\n",
        "output_tensor = torch.randn(512)  # Example PyTorch tensor\n",
        "output_json = output_to_json(output_tensor)\n",
        "print(output_json)\n",
        "\n",
        "# Extract the full hairline area\n",
        "extracted_area = extract_full_hairline_area(original_image, output_json)\n",
        "\n",
        "# Save the extracted area as a PNG image\n",
        "output_image_path = '/content/extracted_full_hairline.png'\n",
        "cv2.imwrite(output_image_path, extracted_area)\n",
        "\n",
        "print(f\"Full hairline area extracted and saved as {output_image_path}\")"
      ],
      "metadata": {
        "colab": {
          "base_uri": "https://localhost:8080/"
        },
        "id": "MXECtfGfou9c",
        "outputId": "523f6d3c-83b5-4968-e83e-edf5ed946120"
      },
      "execution_count": null,
      "outputs": [
        {
          "output_type": "stream",
          "name": "stdout",
          "text": [
            "{\"predictions\": [{\"class\": \"point_values\", \"num_points\": 512, \"points\": [{\"value\": 0.36755993962287903}, {\"value\": -0.42220592498779297}, {\"value\": -0.009762784466147423}, {\"value\": 0.2748655676841736}, {\"value\": 2.6107583045959473}, {\"value\": 1.912307858467102}, {\"value\": -1.0506587028503418}, {\"value\": -0.5366543531417847}, {\"value\": -1.4000635147094727}, {\"value\": 0.18177685141563416}, {\"value\": 1.1176819801330566}, {\"value\": 1.137367844581604}, {\"value\": 0.4831600487232208}, {\"value\": -1.020277738571167}, {\"value\": -1.0960443019866943}, {\"value\": -0.7096938490867615}, {\"value\": -0.29917004704475403}, {\"value\": -0.5389114618301392}, {\"value\": -1.1669219732284546}, {\"value\": 0.8148106336593628}, {\"value\": -1.0655025243759155}, {\"value\": -0.1926247626543045}, {\"value\": 0.19477777183055878}, {\"value\": 0.6996925473213196}, {\"value\": -2.411769151687622}, {\"value\": -0.8967331647872925}, {\"value\": 0.5179589986801147}, {\"value\": 0.7874754667282104}, {\"value\": 1.857831597328186}, {\"value\": -0.8834350109100342}, {\"value\": -1.699715256690979}, {\"value\": 0.5652458667755127}, {\"value\": 1.8273658752441406}, {\"value\": 1.4244648218154907}, {\"value\": -1.301111102104187}, {\"value\": -0.20264309644699097}, {\"value\": 0.693653404712677}, {\"value\": -1.095386028289795}, {\"value\": 0.6579222083091736}, {\"value\": 1.4508973360061646}, {\"value\": -0.5409665107727051}, {\"value\": 0.3770299255847931}, {\"value\": 1.1235408782958984}, {\"value\": -2.1834609508514404}, {\"value\": -0.02741592936217785}, {\"value\": 0.612848699092865}, {\"value\": -1.0649226903915405}, {\"value\": -1.4737133979797363}, {\"value\": 0.7539264559745789}, {\"value\": -0.007481182925403118}, {\"value\": 1.5846023559570312}, {\"value\": -0.5604411363601685}, {\"value\": 0.5091153979301453}, {\"value\": -0.24328169226646423}, {\"value\": 1.3327231407165527}, {\"value\": 0.6410455107688904}, {\"value\": -0.014634081162512302}, {\"value\": 0.7390074133872986}, {\"value\": -0.3193840980529785}, {\"value\": -1.77750563621521}, {\"value\": -1.7120349407196045}, {\"value\": 2.0903422832489014}, {\"value\": 1.2444957494735718}, {\"value\": 0.9709839224815369}, {\"value\": 0.8051608204841614}, {\"value\": -0.2548023760318756}, {\"value\": -0.29819995164871216}, {\"value\": 0.4626491069793701}, {\"value\": 1.3380717039108276}, {\"value\": -1.047714114189148}, {\"value\": -0.6791879534721375}, {\"value\": -0.4118524193763733}, {\"value\": 0.308948814868927}, {\"value\": 0.6506754755973816}, {\"value\": -0.8886112570762634}, {\"value\": -0.7845010757446289}, {\"value\": 1.5063024759292603}, {\"value\": 0.46967676281929016}, {\"value\": 1.6756428480148315}, {\"value\": -0.32105907797813416}, {\"value\": 0.0425703339278698}, {\"value\": -2.561560869216919}, {\"value\": 0.7696622610092163}, {\"value\": 0.06160373613238335}, {\"value\": 0.39857807755470276}, {\"value\": -0.48011237382888794}, {\"value\": -1.1322824954986572}, {\"value\": -0.030162589624524117}, {\"value\": -0.27229154109954834}, {\"value\": -1.0055361986160278}, {\"value\": -0.184579998254776}, {\"value\": -1.631410002708435}, {\"value\": -0.4030366837978363}, {\"value\": -0.3275577127933502}, {\"value\": -0.6420925855636597}, {\"value\": 0.5844816565513611}, {\"value\": 2.0135252475738525}, {\"value\": -1.1826107501983643}, {\"value\": 0.5490608215332031}, {\"value\": -1.7600921392440796}, {\"value\": 1.5963034629821777}, {\"value\": -0.036495741456747055}, {\"value\": -0.48963433504104614}, {\"value\": 0.3697696328163147}, {\"value\": 0.5991537570953369}, {\"value\": 0.3577926456928253}, {\"value\": 0.709112823009491}, {\"value\": -0.5861126184463501}, {\"value\": 0.7901270389556885}, {\"value\": -0.9139038920402527}, {\"value\": 1.4926658868789673}, {\"value\": -2.061655282974243}, {\"value\": -0.18068301677703857}, {\"value\": -0.35272398591041565}, {\"value\": -0.9616599082946777}, {\"value\": -0.11712151020765305}, {\"value\": -1.7670835256576538}, {\"value\": 1.608383297920227}, {\"value\": 0.9335153698921204}, {\"value\": 1.4002443552017212}, {\"value\": 1.4757500886917114}, {\"value\": -0.16515657305717468}, {\"value\": 0.7095285654067993}, {\"value\": -0.8002403378486633}, {\"value\": -0.5641995668411255}, {\"value\": -0.6115526556968689}, {\"value\": -0.24003803730010986}, {\"value\": -1.0087320804595947}, {\"value\": 0.10270655155181885}, {\"value\": -1.0275897979736328}, {\"value\": -0.062459494918584824}, {\"value\": -0.14667119085788727}, {\"value\": -0.5644572377204895}, {\"value\": -0.2976788282394409}, {\"value\": 0.6249992251396179}, {\"value\": 1.0394508838653564}, {\"value\": -1.640085220336914}, {\"value\": 1.2621914148330688}, {\"value\": 1.3981297016143799}, {\"value\": 1.5408400297164917}, {\"value\": 0.9984385967254639}, {\"value\": -0.7115079760551453}, {\"value\": 0.3088085651397705}, {\"value\": 0.8948801755905151}, {\"value\": -0.5735209584236145}, {\"value\": -0.6711481809616089}, {\"value\": 1.053175926208496}, {\"value\": 1.0904312133789062}, {\"value\": 0.15473231673240662}, {\"value\": 0.3037916123867035}, {\"value\": 0.4753936529159546}, {\"value\": -0.33669736981391907}, {\"value\": 0.5233598351478577}, {\"value\": 0.6412825584411621}, {\"value\": 0.38843703269958496}, {\"value\": -2.3111672401428223}, {\"value\": 0.9835641980171204}, {\"value\": 0.6404699087142944}, {\"value\": 0.8855263590812683}, {\"value\": 0.3129728138446808}, {\"value\": -2.258784055709839}, {\"value\": -0.2011992335319519}, {\"value\": 1.6816962957382202}, {\"value\": 0.5979412794113159}, {\"value\": -0.5157142281532288}, {\"value\": -1.333063006401062}, {\"value\": -0.3116840720176697}, {\"value\": -0.35567665100097656}, {\"value\": -0.6013069748878479}, {\"value\": -0.10968201607465744}, {\"value\": 0.32265451550483704}, {\"value\": 0.17036008834838867}, {\"value\": -1.4507192373275757}, {\"value\": -0.07967931777238846}, {\"value\": -2.3529140949249268}, {\"value\": 0.2923968732357025}, {\"value\": -0.07834050804376602}, {\"value\": 0.1839994639158249}, {\"value\": 1.360315203666687}, {\"value\": 1.3432958126068115}, {\"value\": -0.7099689245223999}, {\"value\": 1.2556973695755005}, {\"value\": 0.06329034268856049}, {\"value\": 0.591795027256012}, {\"value\": -0.9413978457450867}, {\"value\": 0.4618925452232361}, {\"value\": 0.9562179446220398}, {\"value\": 0.5126155614852905}, {\"value\": -0.27259090542793274}, {\"value\": 0.015602868050336838}, {\"value\": -0.40160566568374634}, {\"value\": 0.7087184190750122}, {\"value\": 0.8412814140319824}, {\"value\": -0.9785398840904236}, {\"value\": 0.8491708636283875}, {\"value\": -0.6347581148147583}, {\"value\": -0.28420984745025635}, {\"value\": -0.4361441135406494}, {\"value\": 0.545829713344574}, {\"value\": -0.4055013060569763}, {\"value\": -0.49073147773742676}, {\"value\": -1.5694389343261719}, {\"value\": -0.11221404373645782}, {\"value\": 0.2918493449687958}, {\"value\": -0.5152247548103333}, {\"value\": -1.9506934881210327}, {\"value\": 0.37677663564682007}, {\"value\": -2.7096469402313232}, {\"value\": 0.020758530125021935}, {\"value\": -0.2909480929374695}, {\"value\": 0.013559699058532715}, {\"value\": 0.30279162526130676}, {\"value\": 0.005017105024307966}, {\"value\": 2.4315006732940674}, {\"value\": 0.21624624729156494}, {\"value\": -0.7092809677124023}, {\"value\": -1.2929197549819946}, {\"value\": 0.17997099459171295}, {\"value\": -0.7426042556762695}, {\"value\": -0.38707029819488525}, {\"value\": 0.6672159433364868}, {\"value\": -1.6273465156555176}, {\"value\": 1.4345818758010864}, {\"value\": 0.04598622769117355}, {\"value\": 0.9304326176643372}, {\"value\": 0.4943132698535919}, {\"value\": 0.31719398498535156}, {\"value\": -1.6120896339416504}, {\"value\": -0.32946813106536865}, {\"value\": -0.9992874264717102}, {\"value\": 0.3592953085899353}, {\"value\": -0.7757988572120667}, {\"value\": 0.46680235862731934}, {\"value\": 0.2161341905593872}, {\"value\": 0.7989883422851562}, {\"value\": 1.3466572761535645}, {\"value\": -1.4282537698745728}, {\"value\": -0.023788947612047195}, {\"value\": 1.2355931997299194}, {\"value\": -1.1468702554702759}, {\"value\": 0.44250279664993286}, {\"value\": 0.4916231036186218}, {\"value\": 0.8319827914237976}, {\"value\": 1.4527397155761719}, {\"value\": 0.20512042939662933}, {\"value\": -1.2712414264678955}, {\"value\": 1.2778764963150024}, {\"value\": -1.4649250507354736}, {\"value\": -1.5692565441131592}, {\"value\": 1.9425909519195557}, {\"value\": -0.9400535821914673}, {\"value\": 1.6224373579025269}, {\"value\": -0.8308570981025696}, {\"value\": -0.3272522985935211}, {\"value\": 1.843048095703125}, {\"value\": 0.27110621333122253}, {\"value\": 1.7963085174560547}, {\"value\": -0.5478907823562622}, {\"value\": 0.7400110363960266}, {\"value\": -1.4672033786773682}, {\"value\": 0.266046941280365}, {\"value\": 0.12516523897647858}, {\"value\": -1.0564777851104736}, {\"value\": 0.9828446507453918}, {\"value\": -1.8536030054092407}, {\"value\": 1.8542851209640503}, {\"value\": -0.6656689643859863}, {\"value\": 0.6664009094238281}, {\"value\": -0.3928271532058716}, {\"value\": -0.678516149520874}, {\"value\": 0.8504275679588318}, {\"value\": -0.05904649198055267}, {\"value\": -1.0506281852722168}, {\"value\": -0.9993182420730591}, {\"value\": 1.7527295351028442}, {\"value\": -0.40813037753105164}, {\"value\": -0.2843758463859558}, {\"value\": 1.4548375606536865}, {\"value\": -1.710044264793396}, {\"value\": -0.9574916958808899}, {\"value\": 1.2994939088821411}, {\"value\": 1.4039570093154907}, {\"value\": 0.860197901725769}, {\"value\": 0.2163010835647583}, {\"value\": 0.8036921620368958}, {\"value\": -0.3457908034324646}, {\"value\": -1.2911067008972168}, {\"value\": -2.152315139770508}, {\"value\": -1.7286354303359985}, {\"value\": -0.8434638381004333}, {\"value\": -1.420918583869934}, {\"value\": 0.23516111075878143}, {\"value\": 1.0767508745193481}, {\"value\": 1.8054258823394775}, {\"value\": -1.355756402015686}, {\"value\": -0.1919143795967102}, {\"value\": -0.006238310597836971}, {\"value\": -1.4432319402694702}, {\"value\": -1.388100504875183}, {\"value\": 0.8766624331474304}, {\"value\": 0.3189324736595154}, {\"value\": 0.7816396355628967}, {\"value\": 0.657551646232605}, {\"value\": 0.9710009694099426}, {\"value\": -0.7395276427268982}, {\"value\": 0.19568507373332977}, {\"value\": -1.360496997833252}, {\"value\": 0.0021902993321418762}, {\"value\": 1.1696882247924805}, {\"value\": -0.5197470188140869}, {\"value\": -0.761734127998352}, {\"value\": 0.7686108350753784}, {\"value\": 0.6683903336524963}, {\"value\": 0.33032655715942383}, {\"value\": 0.3847120702266693}, {\"value\": 0.8736968636512756}, {\"value\": 1.0231800079345703}, {\"value\": 0.6055839657783508}, {\"value\": 0.37969765067100525}, {\"value\": 1.103843331336975}, {\"value\": -0.8733326196670532}, {\"value\": 1.8676337003707886}, {\"value\": -1.029289722442627}, {\"value\": -1.3839091062545776}, {\"value\": 0.6323451399803162}, {\"value\": -0.03402450680732727}, {\"value\": -1.3503221273422241}, {\"value\": -0.32519784569740295}, {\"value\": -0.564834475517273}, {\"value\": 1.2402435541152954}, {\"value\": 0.7640902996063232}, {\"value\": -1.4544148445129395}, {\"value\": 1.150192141532898}, {\"value\": -0.3168730139732361}, {\"value\": -1.5732475519180298}, {\"value\": -0.7851676344871521}, {\"value\": 0.879286527633667}, {\"value\": -0.0687783882021904}, {\"value\": 0.21359018981456757}, {\"value\": 1.6235301494598389}, {\"value\": -1.1531463861465454}, {\"value\": -1.2220091819763184}, {\"value\": 0.3392295241355896}, {\"value\": 0.5754239559173584}, {\"value\": -1.2534719705581665}, {\"value\": 0.11215732246637344}, {\"value\": 0.6651796698570251}, {\"value\": -0.636782705783844}, {\"value\": 0.2908751368522644}, {\"value\": -1.554438591003418}, {\"value\": -0.806093692779541}, {\"value\": -1.5220178365707397}, {\"value\": -0.6767317652702332}, {\"value\": -0.8210847973823547}, {\"value\": -0.7027380466461182}, {\"value\": -1.1498275995254517}, {\"value\": 1.9514045715332031}, {\"value\": 1.041068434715271}, {\"value\": -1.8577497005462646}, {\"value\": -0.5980827808380127}, {\"value\": 1.5422154664993286}, {\"value\": 1.3461252450942993}, {\"value\": 1.1983321905136108}, {\"value\": -0.08048717677593231}, {\"value\": -0.8359429240226746}, {\"value\": -0.18327085673809052}, {\"value\": 1.3656258583068848}, {\"value\": 0.9851868152618408}, {\"value\": 0.5173291563987732}, {\"value\": 0.6557714343070984}, {\"value\": 0.009507128968834877}, {\"value\": -0.08914531022310257}, {\"value\": -1.3744248151779175}, {\"value\": -0.20759810507297516}, {\"value\": -0.5594601631164551}, {\"value\": -0.9046040177345276}, {\"value\": 1.2736239433288574}, {\"value\": 1.4177405834197998}, {\"value\": -0.2093736231327057}, {\"value\": -2.109114408493042}, {\"value\": -1.43814218044281}, {\"value\": -1.3672808408737183}, {\"value\": -0.7237321734428406}, {\"value\": 0.6321893334388733}, {\"value\": -1.685394048690796}, {\"value\": -0.29821157455444336}, {\"value\": -0.0403878390789032}, {\"value\": -0.3158631920814514}, {\"value\": 0.9845694899559021}, {\"value\": 0.5158039331436157}, {\"value\": -1.4129639863967896}, {\"value\": 0.187827929854393}, {\"value\": -0.09425042569637299}, {\"value\": 0.8609235286712646}, {\"value\": -0.3105984926223755}, {\"value\": -0.533000648021698}, {\"value\": 0.40913504362106323}, {\"value\": -0.4527320861816406}, {\"value\": -0.6159566044807434}, {\"value\": 1.7208155393600464}, {\"value\": 1.4662257432937622}, {\"value\": 0.012807602994143963}, {\"value\": 0.8718975186347961}, {\"value\": -1.9305514097213745}, {\"value\": -0.321515291929245}, {\"value\": 0.3787132501602173}, {\"value\": 1.7703880071640015}, {\"value\": -0.8788134455680847}, {\"value\": -0.5732324123382568}, {\"value\": 1.4148356914520264}, {\"value\": -0.20122942328453064}, {\"value\": 2.145500898361206}, {\"value\": -0.11682359874248505}, {\"value\": 0.2648826539516449}, {\"value\": 0.14998896420001984}, {\"value\": -1.420190691947937}, {\"value\": -0.018983053043484688}, {\"value\": -1.258097767829895}, {\"value\": 1.674684762954712}, {\"value\": 0.7156960368156433}, {\"value\": -1.6698116064071655}, {\"value\": -0.38854846358299255}, {\"value\": -0.8102861642837524}, {\"value\": -0.008084936998784542}, {\"value\": 0.35894662141799927}, {\"value\": -1.9588897228240967}, {\"value\": 0.3117038607597351}, {\"value\": -0.862606942653656}, {\"value\": 0.4125523269176483}, {\"value\": -2.3185391426086426}, {\"value\": 1.3478947877883911}, {\"value\": -1.0277637243270874}, {\"value\": -0.15895526111125946}, {\"value\": -0.08870017528533936}, {\"value\": -2.6867830753326416}, {\"value\": -0.10854227095842361}, {\"value\": -1.3202143907546997}, {\"value\": 0.8131571412086487}, {\"value\": 0.48412954807281494}, {\"value\": 1.5013247728347778}, {\"value\": -0.32460305094718933}, {\"value\": -0.7643294930458069}, {\"value\": 0.14685243368148804}, {\"value\": -0.451980859041214}, {\"value\": -1.028489589691162}, {\"value\": 0.1933360993862152}, {\"value\": -0.9620791673660278}, {\"value\": 0.17163079977035522}, {\"value\": -0.9228899478912354}, {\"value\": 1.0950239896774292}, {\"value\": 1.7242075204849243}, {\"value\": -0.4728443920612335}, {\"value\": 0.2649330794811249}, {\"value\": 0.31876471638679504}, {\"value\": -0.8681854009628296}, {\"value\": 2.0935425758361816}, {\"value\": 1.189803123474121}, {\"value\": -0.2647249400615692}, {\"value\": -0.1760331392288208}, {\"value\": 1.6542428731918335}, {\"value\": 0.7728200554847717}, {\"value\": -1.0781804323196411}, {\"value\": -0.7509912252426147}, {\"value\": -0.3396559953689575}, {\"value\": 0.3920467793941498}, {\"value\": 1.872347354888916}, {\"value\": -0.4332561790943146}, {\"value\": 0.3904833495616913}, {\"value\": -2.97633957862854}, {\"value\": 0.6057479977607727}, {\"value\": 0.44622179865837097}, {\"value\": -0.6871275305747986}, {\"value\": -0.27958256006240845}, {\"value\": 1.0262025594711304}, {\"value\": 0.014430317096412182}, {\"value\": -0.575173556804657}, {\"value\": -0.3654467463493347}, {\"value\": 0.9978564977645874}, {\"value\": -1.006535291671753}, {\"value\": -0.2245589792728424}, {\"value\": 0.7536280155181885}, {\"value\": 0.3937070965766907}, {\"value\": 0.6872957944869995}, {\"value\": -0.27990391850471497}, {\"value\": 0.20884953439235687}, {\"value\": -0.5214195251464844}, {\"value\": 0.4602993428707123}, {\"value\": -0.8596152067184448}, {\"value\": 0.6223186254501343}, {\"value\": 0.8027224540710449}, {\"value\": -0.13849462568759918}, {\"value\": -0.8890168070793152}, {\"value\": 0.4304071068763733}, {\"value\": 0.9986312389373779}, {\"value\": 0.035541076213121414}, {\"value\": -0.1054685190320015}, {\"value\": 0.01479529868811369}, {\"value\": -1.6492308378219604}, {\"value\": -0.5477906465530396}, {\"value\": -0.06152532622218132}, {\"value\": -1.069512128829956}, {\"value\": -0.22603726387023926}, {\"value\": -0.6111539602279663}, {\"value\": -0.8359857201576233}, {\"value\": 0.6283032298088074}, {\"value\": -0.7215589284896851}, {\"value\": -0.8161067366600037}, {\"value\": 0.2180807739496231}, {\"value\": -0.023272767663002014}, {\"value\": 0.276191771030426}, {\"value\": -0.9163558483123779}, {\"value\": 1.258763313293457}]}]}\n",
            "Full hairline area extracted and saved as /content/extracted_full_hairline.png\n"
          ]
        }
      ]
    },
    {
      "cell_type": "code",
      "source": [],
      "metadata": {
        "id": "FBVGi3R5td_u"
      },
      "execution_count": null,
      "outputs": []
    }
  ]
}